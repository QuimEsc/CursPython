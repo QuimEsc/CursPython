{
 "cells": [
  {
   "attachments": {},
   "cell_type": "markdown",
   "metadata": {},
   "source": [
    "<h1>PART 1"
   ]
  },
  {
   "attachments": {},
   "cell_type": "markdown",
   "metadata": {},
   "source": [
    "<h3>Exercici 1"
   ]
  },
  {
   "cell_type": "code",
   "execution_count": 19,
   "metadata": {},
   "outputs": [],
   "source": [
    "mesos = [\n",
    "    [\"gener\", \"febrer\", \"març\"], \n",
    "         [\"abril\", \"maig\", \"juny\"], \n",
    "         [\"juliol\", \"agost\", \"setembre\"], \n",
    "         [\"octubre\", \"novembre\", \"desembre\"]\n",
    "         ]\n",
    "\n"
   ]
  },
  {
   "attachments": {},
   "cell_type": "markdown",
   "metadata": {},
   "source": [
    "<h3>Exercici 2"
   ]
  },
  {
   "cell_type": "code",
   "execution_count": 20,
   "metadata": {},
   "outputs": [
    {
     "name": "stdout",
     "output_type": "stream",
     "text": [
      "febrer\n",
      "['gener', 'febrer', 'març']\n",
      "setembre, octubre\n"
     ]
    }
   ],
   "source": [
    "print(mesos[0][1])\n",
    "print(mesos[0])\n",
    "print(f\"{mesos[2][2]}, {mesos[3][0]}\") "
   ]
  },
  {
   "attachments": {},
   "cell_type": "markdown",
   "metadata": {},
   "source": [
    "<h3>Exercici 3"
   ]
  },
  {
   "cell_type": "code",
   "execution_count": 21,
   "metadata": {},
   "outputs": [],
   "source": [
    "#Crea una llista amb nombres desordenats i respon a les següents preguntes: \n",
    "numeros = [7, 2, 3, 8, 1, 5, 3, 4, 6, 9, 2, 3, 4, 1, 7, 5, 6, 8, 10]"
   ]
  },
  {
   "cell_type": "code",
   "execution_count": 22,
   "metadata": {},
   "outputs": [
    {
     "data": {
      "text/plain": [
       "19"
      ]
     },
     "execution_count": 22,
     "metadata": {},
     "output_type": "execute_result"
    }
   ],
   "source": [
    "#Quants números hi ha?\n",
    "len(numeros)"
   ]
  },
  {
   "cell_type": "code",
   "execution_count": 23,
   "metadata": {},
   "outputs": [
    {
     "data": {
      "text/plain": [
       "3"
      ]
     },
     "execution_count": 23,
     "metadata": {},
     "output_type": "execute_result"
    }
   ],
   "source": [
    "#Quantes vegades apareix el número 3?\n",
    "numeros.count(3)"
   ]
  },
  {
   "cell_type": "code",
   "execution_count": 24,
   "metadata": {},
   "outputs": [
    {
     "data": {
      "text/plain": [
       "5"
      ]
     },
     "execution_count": 24,
     "metadata": {},
     "output_type": "execute_result"
    }
   ],
   "source": [
    "#Quantes vegades apareixen els nombres 3 i 4?\n",
    "numeros.count(3) + numeros.count(4)"
   ]
  },
  {
   "cell_type": "code",
   "execution_count": 25,
   "metadata": {},
   "outputs": [
    {
     "data": {
      "text/plain": [
       "10"
      ]
     },
     "execution_count": 25,
     "metadata": {},
     "output_type": "execute_result"
    }
   ],
   "source": [
    "#Quin és el número més gran?\n",
    "max(numeros)"
   ]
  },
  {
   "cell_type": "code",
   "execution_count": null,
   "metadata": {},
   "outputs": [],
   "source": [
    "#Quins són els 3 números més petits?\n",
    "sorted(set(numeros))[:3]"
   ]
  },
  {
   "cell_type": "code",
   "execution_count": null,
   "metadata": {},
   "outputs": [],
   "source": [
    "#Quins són els 3 números més grans?\n",
    "sorted(set(numeros))[-3:]"
   ]
  },
  {
   "attachments": {},
   "cell_type": "markdown",
   "metadata": {},
   "source": [
    "<h3>Exercici 4"
   ]
  },
  {
   "cell_type": "code",
   "execution_count": null,
   "metadata": {},
   "outputs": [],
   "source": [
    "# Diccionari inicial\n",
    "compra = {\"Pomes\": {\"Qty\": 5, \"€\": 0.42}, \"Peres\": {\"Qty\": 3, \"€\": 0.66}}\n",
    "\n",
    "# 1. Afegeix alguna fruita més\n",
    "compra[\"Plàtans\"] = {\"Qty\": 4, \"€\": 0.35}\n",
    "compra[\"Maduixes\"] = {\"Qty\": 2, \"€\": 0.75}\n",
    "\n",
    "print(\"Diccionari actualitzat:\", compra)\n",
    "\n",
    "# Quant han costat les peres en total?\n",
    "cost_peres = compra[\"Peres\"][\"Qty\"] * compra[\"Peres\"][\"€\"]\n",
    "print(f\"El cost total de les peres és: €{cost_peres}\")\n",
    "\n",
    "\n",
    "# Quantes fruites hem comprat en total?\n",
    "quantitat_total = sum(fruita[\"Qty\"] for fruita in compra.values())\n",
    "print(f\"El total de fruites comprades és: {quantitat_total} unitats\")\n",
    "\n",
    "# Quina és la fruita més cara?\n",
    "fruita_mes_cara = max(compra, key=lambda fruita: compra[fruita][\"€\"])\n",
    "print(f\"La fruita més cara és: {fruita_mes_cara}\")\n"
   ]
  },
  {
   "attachments": {},
   "cell_type": "markdown",
   "metadata": {},
   "source": [
    "<h1>PART 2"
   ]
  },
  {
   "cell_type": "code",
   "execution_count": 40,
   "metadata": {},
   "outputs": [
    {
     "name": "stdout",
     "output_type": "stream",
     "text": [
      "El segon número és més gran.\n",
      "HolaHolaHola\n"
     ]
    }
   ],
   "source": [
    "#Exercici 1: Classificació de Notes\n",
    "def classificar_nota(nota):\n",
    "    if nota < 5:\n",
    "        return \"Suspès\"\n",
    "    elif nota < 7:\n",
    "        return \"Aprovat\"\n",
    "    elif nota < 9:\n",
    "        return \"Notable\"\n",
    "    else:\n",
    "        return \"Excel·lent\"\n",
    "    \n",
    "\n",
    "#Exercici 2: Comparació de dos números\n",
    "def comparar_numeros():\n",
    "    numero1 = int(input(\"Introdueix el primer número: \"))\n",
    "    numero2 = int(input(\"Introdueix el segon número: \"))\n",
    "\n",
    "    if numero1 > numero2:\n",
    "        print(\"El primer número és més gran.\")\n",
    "    elif numero1 < numero2:\n",
    "        print(\"El segon número és més gran.\")\n",
    "    else:\n",
    "        print(\"Els números són iguals.\")\n",
    "\n",
    "comparar_numeros()\n",
    "\n",
    "\n",
    "\n",
    "#Exercici 3: Repetició de nom\n",
    "def repetir_nom():\n",
    "    nom = input(\"Quin és el teu nom?\")\n",
    "    numero = int(input(\"Introdueix un número: \"))\n",
    "\n",
    "    if numero == 0:\n",
    "        print(\"Error: El número no pot ser 0.\")\n",
    "    else:\n",
    "        repeticionom = nom*numero\n",
    "        print(repeticionom)\n",
    "\n",
    "repetir_nom()\n",
    "\n",
    "\n",
    "#Exercici 4: Llista Simètrica\n",
    "def simetrico(llista):\n",
    "    if llista==llista[::-1]:\n",
    "        print(f\"La lista és simètrica i té {len(llista)} elements\")\n",
    "    else:\n",
    "        print(f\"La lista no és simètrica\")\n",
    "\n",
    "\n",
    "llista=[1,2,3,2,1]\n",
    "simetrico(llista)\n",
    "\n",
    "\n",
    "#Exercici 5: Coincidència números amb posició\n",
    "def numeros_coincidents_posicio(llista):\n",
    "    coincidencia = \"\"\n",
    "    for index in range(len(llista)):\n",
    "        if index == llista[index]:\n",
    "            if len(coincidencia) == 0:\n",
    "                coincidencia = str(llista[index])\n",
    "            else:\n",
    "                coincidencia = coincidencia + \", \" + str(llista[index])\n",
    "    return coincidencia\n",
    "\n",
    "# Exemple d'ús:\n",
    "llista = [3, 4, 2, 0, 2, 3, 6]\n",
    "resultat = numeros_coincidents_posicio(llista)\n",
    "print(f\"Els números que coincideixen amb la seva posició són: {resultat}\")\n"
   ]
  }
 ],
 "metadata": {
  "kernelspec": {
   "display_name": "Python 3",
   "language": "python",
   "name": "python3"
  },
  "language_info": {
   "codemirror_mode": {
    "name": "ipython",
    "version": 3
   },
   "file_extension": ".py",
   "mimetype": "text/x-python",
   "name": "python",
   "nbconvert_exporter": "python",
   "pygments_lexer": "ipython3",
   "version": "3.11.2"
  },
  "orig_nbformat": 4
 },
 "nbformat": 4,
 "nbformat_minor": 2
}
